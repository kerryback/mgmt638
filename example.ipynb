{
 "cells": [
  {
   "cell_type": "markdown",
   "metadata": {},
   "source": [
    "# Rice Business Stock Market Data Portal - Getting Started\n",
    "\n",
    "This notebook demonstrates how to connect to and query the Rice Business Stock Market Data Portal.\n",
    "\n",
    "## Setup\n",
    "\n",
    "1. Make sure you have your Rice Data Portal access token (JWT from your email)\n",
    "2. Add your access token to the `.env` file in this folder\n",
    "3. Run the cells to start exploring the data!"
   ]
  },
  {
   "cell_type": "markdown",
   "metadata": {},
   "source": [
    "## Import and Connect"
   ]
  },
  {
   "cell_type": "code",
   "execution_count": null,
   "metadata": {},
   "outputs": [],
   "source": [
    "from rice_data_client import RiceDataClient\n",
    "from dotenv import load_dotenv\n",
    "import pandas as pd\n",
    "import os\n",
    "\n",
    "# Load environment variables from .env file\n",
    "load_dotenv()\n",
    "\n",
    "# Get configuration from environment\n",
    "ACCESS_TOKEN = os.getenv('USER_ACCESS_TOKEN')\n",
    "BASE_URL = os.getenv('RICE_DATA_URL', 'https://portal.rice-business.org')\n",
    "\n",
    "# Connect to Rice Data Portal\n",
    "client = RiceDataClient(\n",
    "    access_token=ACCESS_TOKEN,\n",
    "    base_url=BASE_URL\n",
    ")"
   ]
  },
  {
   "cell_type": "markdown",
   "metadata": {},
   "source": [
    "## Example 1: Search for Tickers\n",
    "\n",
    "Find technology companies using the convenience method:"
   ]
  },
  {
   "cell_type": "code",
   "execution_count": null,
   "metadata": {},
   "outputs": [],
   "source": [
    "# Search for technology companies\n",
    "tech_stocks = client.search_tickers(sector=\"Technology\", limit=10)\n",
    "tech_stocks"
   ]
  },
  {
   "cell_type": "markdown",
   "metadata": {},
   "source": [
    "## Example 2: Get Ticker Details\n",
    "\n",
    "Get detailed information for a specific company:"
   ]
  },
  {
   "cell_type": "code",
   "execution_count": null,
   "metadata": {},
   "outputs": [],
   "source": [
    "# Get details for Apple\n",
    "aapl_info = client.get_ticker_details(\"AAPL\")\n",
    "aapl_info"
   ]
  },
  {
   "cell_type": "markdown",
   "metadata": {},
   "source": [
    "## Example 3: Get Price Data\n",
    "\n",
    "Fetch historical price data from the SEP table:"
   ]
  },
  {
   "cell_type": "code",
   "execution_count": null,
   "metadata": {},
   "outputs": [],
   "source": [
    "# Get recent price data for Apple\n",
    "prices = client.get_price_data(\n",
    "    ticker=\"AAPL\",\n",
    "    start_date=\"2024-01-01\",\n",
    "    limit=50\n",
    ")\n",
    "prices.head(10)"
   ]
  },
  {
   "cell_type": "markdown",
   "metadata": {},
   "source": [
    "## Example 4: Custom SQL Query\n",
    "\n",
    "Write your own SQL queries using DuckDB syntax:"
   ]
  },
  {
   "cell_type": "code",
   "execution_count": null,
   "metadata": {},
   "outputs": [],
   "source": [
    "# Query for largest companies by market cap\n",
    "sql = \"\"\"\n",
    "SELECT \n",
    "    d.ticker, \n",
    "    t.name,\n",
    "    d.marketcap,\n",
    "    d.date\n",
    "FROM daily d\n",
    "JOIN tickers t ON d.ticker = t.ticker\n",
    "WHERE d.date = (SELECT MAX(date) FROM daily)\n",
    "ORDER BY d.marketcap DESC\n",
    "LIMIT 10\n",
    "\"\"\"\n",
    "\n",
    "largest_companies = client.query(sql)\n",
    "largest_companies"
   ]
  },
  {
   "cell_type": "markdown",
   "metadata": {},
   "source": [
    "## Example 5: Get Fundamental Data\n",
    "\n",
    "Access financial statement data from the SF1 table:"
   ]
  },
  {
   "cell_type": "code",
   "execution_count": null,
   "metadata": {},
   "outputs": [],
   "source": [
    "# Get annual financial data for Apple\n",
    "fundamentals = client.get_fundamentals(\n",
    "    ticker=\"AAPL\",\n",
    "    dimension=\"MRY\",  # Most Recent, Annual\n",
    "    limit=5\n",
    ")\n",
    "fundamentals"
   ]
  },
  {
   "cell_type": "markdown",
   "metadata": {},
   "source": [
    "## Example 6: Calculate Financial Metrics\n",
    "\n",
    "Query and calculate custom metrics:"
   ]
  },
  {
   "cell_type": "code",
   "execution_count": null,
   "metadata": {},
   "outputs": [],
   "source": [
    "# Get quarterly revenue growth for Apple\n",
    "sql = \"\"\"\n",
    "SELECT \n",
    "    ticker,\n",
    "    reportperiod,\n",
    "    revenue,\n",
    "    LAG(revenue, 4) OVER (PARTITION BY ticker ORDER BY reportperiod) as revenue_year_ago,\n",
    "    ROUND(\n",
    "        ((revenue - LAG(revenue, 4) OVER (PARTITION BY ticker ORDER BY reportperiod)) / \n",
    "         LAG(revenue, 4) OVER (PARTITION BY ticker ORDER BY reportperiod)) * 100, 2\n",
    "    ) as yoy_growth_pct\n",
    "FROM sf1\n",
    "WHERE ticker = 'AAPL'\n",
    "  AND dimension = 'MRQ'\n",
    "  AND reportperiod::DATE >= CURRENT_DATE - INTERVAL '3 years'\n",
    "ORDER BY reportperiod DESC\n",
    "LIMIT 12\n",
    "\"\"\"\n",
    "\n",
    "revenue_growth = client.query(sql)\n",
    "revenue_growth"
   ]
  },
  {
   "cell_type": "markdown",
   "metadata": {},
   "source": [
    "## Example 7: Visualize Data\n",
    "\n",
    "Create simple visualizations with matplotlib:"
   ]
  },
  {
   "cell_type": "code",
   "execution_count": null,
   "metadata": {},
   "outputs": [],
   "source": [
    "import matplotlib.pyplot as plt\n",
    "\n",
    "# Get monthly closing prices\n",
    "sql = \"\"\"\n",
    "SELECT \n",
    "    date,\n",
    "    closeadj as price\n",
    "FROM sep\n",
    "WHERE ticker = 'AAPL'\n",
    "  AND date::DATE >= CURRENT_DATE - INTERVAL '1 year'\n",
    "ORDER BY date\n",
    "\"\"\"\n",
    "\n",
    "price_data = client.query(sql)\n",
    "price_data['date'] = pd.to_datetime(price_data['date'])\n",
    "\n",
    "# Plot\n",
    "plt.figure(figsize=(12, 6))\n",
    "plt.plot(price_data['date'], price_data['price'])\n",
    "plt.title('AAPL Stock Price - Last Year')\n",
    "plt.xlabel('Date')\n",
    "plt.ylabel('Adjusted Close Price ($)')\n",
    "plt.grid(True, alpha=0.3)\n",
    "plt.tight_layout()\n",
    "plt.show()"
   ]
  },
  {
   "cell_type": "markdown",
   "metadata": {},
   "source": [
    "## Next Steps\n",
    "\n",
    "Now you're ready to explore the data! Here are some ideas:\n",
    "\n",
    "1. **Explore sectors**: Use `client.list_sectors()` to see all available sectors\n",
    "2. **Compare companies**: Query multiple tickers and compare metrics\n",
    "3. **Time series analysis**: Look at trends over time using date filters\n",
    "4. **Financial ratios**: Calculate ROE, profit margins, debt ratios, etc.\n",
    "5. **Screen stocks**: Find companies meeting specific criteria\n",
    "\n",
    "### Important Notes:\n",
    "\n",
    "- All date columns are VARCHAR and must be cast to DATE: `date::DATE`\n",
    "- Market cap values in DAILY table are in thousands of dollars\n",
    "- SF1 dimension codes: MRY (annual), MRQ (quarterly), MRT (trailing 4Q)\n",
    "- Use `reportperiod` as the main date field in SF1 table\n",
    "\n",
    "For complete documentation, visit: https://portal-guide.rice-business.org"
   ]
  }
 ],
 "metadata": {
  "kernelspec": {
   "display_name": "Python 3",
   "language": "python",
   "name": "python3"
  },
  "language_info": {
   "codemirror_mode": {
    "name": "ipython",
    "version": 3
   },
   "file_extension": ".py",
   "mimetype": "text/x-python",
   "name": "python",
   "nbconvert_exporter": "python",
   "pygments_lexer": "ipython3",
   "version": "3.10.0"
  }
 },
 "nbformat": 4,
 "nbformat_minor": 4
}
