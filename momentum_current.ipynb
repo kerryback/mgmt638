{
 "cells": [
  {
   "cell_type": "markdown",
   "metadata": {},
   "source": [
    "# Current Stock Momentum Calculation\n",
    "\n",
    "This notebook calculates current momentum for all stocks in the Rice Business Stock Market Data Portal.\n",
    "\n",
    "Momentum is defined as:\n",
    "- (Price 21 trading days ago / Price 252 trading days ago) - 1\n",
    "\n",
    "This captures approximately 11 months of returns (252 trading days ≈ 1 year, 21 trading days ≈ 1 month), skipping the most recent month to avoid short-term reversals."
   ]
  },
  {
   "cell_type": "markdown",
   "metadata": {},
   "source": [
    "## Setup"
   ]
  },
  {
   "cell_type": "code",
   "execution_count": 23,
   "metadata": {},
   "outputs": [
    {
     "name": "stdout",
     "output_type": "stream",
     "text": [
      "✅ Connected to Rice Business Stock Market Data\n",
      "📧 User: verified_user@rice.edu\n",
      "🔑 Permissions: read_all, sql_queries\n",
      "Connected to Rice Data Portal\n"
     ]
    }
   ],
   "source": [
    "from rice_data_client import RiceDataClient\n",
    "from dotenv import load_dotenv\n",
    "import pandas as pd\n",
    "import numpy as np\n",
    "import os\n",
    "\n",
    "# Load environment variables from .env file\n",
    "load_dotenv()\n",
    "\n",
    "# Get configuration from environment\n",
    "ACCESS_TOKEN = os.getenv('USER_ACCESS_TOKEN')\n",
    "BASE_URL = os.getenv('RICE_DATA_URL', 'https://portal.rice-business.org')\n",
    "\n",
    "# Connect to Rice Data Portal\n",
    "client = RiceDataClient(\n",
    "    access_token=ACCESS_TOKEN,\n",
    "    base_url=BASE_URL\n",
    ")\n",
    "\n",
    "print(\"Connected to Rice Data Portal\")"
   ]
  },
  {
   "cell_type": "markdown",
   "metadata": {},
   "source": [
    "## Find the Most Recent Trading Day"
   ]
  },
  {
   "cell_type": "code",
   "execution_count": 24,
   "metadata": {},
   "outputs": [
    {
     "name": "stdout",
     "output_type": "stream",
     "text": [
      "📊 Query returned 1 rows\n",
      "Most recent trading day: 1970-01-01\n"
     ]
    }
   ],
   "source": [
    "# Query to find the most recent trading day in SEP table\n",
    "sql_recent = \"\"\"\n",
    "SELECT MAX(date::DATE) as max_date\n",
    "FROM sep\n",
    "\"\"\"\n",
    "\n",
    "# Execute query using rice_data_client\n",
    "result = client.query(sql_recent)\n",
    "\n",
    "most_recent_date = pd.to_datetime(result['max_date'].iloc[0])\n",
    "print(f\"Most recent trading day: {most_recent_date.strftime('%Y-%m-%d')}\")"
   ]
  },
  {
   "cell_type": "markdown",
   "metadata": {},
   "source": [
    "## Get Prices at Two Key Dates\n",
    "\n",
    "We only need prices from two specific dates:\n",
    "- Most recent date (for reference)\n",
    "- 21 trading days ago (for momentum numerator)\n",
    "- 252 trading days ago (for momentum denominator)\n",
    "\n",
    "We'll identify these dates and query only those specific dates to avoid timeouts."
   ]
  },
  {
   "cell_type": "code",
   "execution_count": 25,
   "metadata": {},
   "outputs": [
    {
     "name": "stdout",
     "output_type": "stream",
     "text": [
      "Identifying trading days...\n",
      "📊 Query returned 253 rows\n",
      "Most recent date: 2025-10-16\n",
      "Date 21 trading days ago: 2025-09-17\n",
      "Date 252 trading days ago: 2024-10-14\n",
      "\n",
      "Downloading prices for 2 dates...\n",
      "📊 Query returned 8692 rows\n",
      "Downloaded 8,692 observations for 4,635 tickers\n"
     ]
    },
    {
     "data": {
      "text/html": [
       "<div>\n",
       "<style scoped>\n",
       "    .dataframe tbody tr th:only-of-type {\n",
       "        vertical-align: middle;\n",
       "    }\n",
       "\n",
       "    .dataframe tbody tr th {\n",
       "        vertical-align: top;\n",
       "    }\n",
       "\n",
       "    .dataframe thead th {\n",
       "        text-align: right;\n",
       "    }\n",
       "</style>\n",
       "<table border=\"1\" class=\"dataframe\">\n",
       "  <thead>\n",
       "    <tr style=\"text-align: right;\">\n",
       "      <th></th>\n",
       "      <th>ticker</th>\n",
       "      <th>date</th>\n",
       "      <th>closeadj</th>\n",
       "    </tr>\n",
       "  </thead>\n",
       "  <tbody>\n",
       "    <tr>\n",
       "      <th>0</th>\n",
       "      <td>A</td>\n",
       "      <td>2024-10-14</td>\n",
       "      <td>143.100</td>\n",
       "    </tr>\n",
       "    <tr>\n",
       "      <th>1</th>\n",
       "      <td>A</td>\n",
       "      <td>2025-09-17</td>\n",
       "      <td>126.476</td>\n",
       "    </tr>\n",
       "    <tr>\n",
       "      <th>2</th>\n",
       "      <td>AA</td>\n",
       "      <td>2024-10-14</td>\n",
       "      <td>41.289</td>\n",
       "    </tr>\n",
       "    <tr>\n",
       "      <th>3</th>\n",
       "      <td>AA</td>\n",
       "      <td>2025-09-17</td>\n",
       "      <td>32.860</td>\n",
       "    </tr>\n",
       "    <tr>\n",
       "      <th>4</th>\n",
       "      <td>AACB</td>\n",
       "      <td>2025-09-17</td>\n",
       "      <td>10.130</td>\n",
       "    </tr>\n",
       "    <tr>\n",
       "      <th>5</th>\n",
       "      <td>AACI</td>\n",
       "      <td>2025-09-17</td>\n",
       "      <td>10.290</td>\n",
       "    </tr>\n",
       "    <tr>\n",
       "      <th>6</th>\n",
       "      <td>AACT</td>\n",
       "      <td>2024-10-14</td>\n",
       "      <td>10.830</td>\n",
       "    </tr>\n",
       "    <tr>\n",
       "      <th>7</th>\n",
       "      <td>AACT</td>\n",
       "      <td>2025-09-17</td>\n",
       "      <td>11.390</td>\n",
       "    </tr>\n",
       "    <tr>\n",
       "      <th>8</th>\n",
       "      <td>AAL</td>\n",
       "      <td>2024-10-14</td>\n",
       "      <td>11.870</td>\n",
       "    </tr>\n",
       "    <tr>\n",
       "      <th>9</th>\n",
       "      <td>AAL</td>\n",
       "      <td>2025-09-17</td>\n",
       "      <td>12.480</td>\n",
       "    </tr>\n",
       "  </tbody>\n",
       "</table>\n",
       "</div>"
      ],
      "text/plain": [
       "  ticker        date  closeadj\n",
       "0      A  2024-10-14   143.100\n",
       "1      A  2025-09-17   126.476\n",
       "2     AA  2024-10-14    41.289\n",
       "3     AA  2025-09-17    32.860\n",
       "4   AACB  2025-09-17    10.130\n",
       "5   AACI  2025-09-17    10.290\n",
       "6   AACT  2024-10-14    10.830\n",
       "7   AACT  2025-09-17    11.390\n",
       "8    AAL  2024-10-14    11.870\n",
       "9    AAL  2025-09-17    12.480"
      ]
     },
     "execution_count": 25,
     "metadata": {},
     "output_type": "execute_result"
    }
   ],
   "source": [
    "# Step 1: Get the most recent 253 unique trading dates from SEP table\n",
    "# We need 253 dates to get: current date (index 0) and 252 days ago (index 252)\n",
    "sql_dates = \"\"\"\n",
    "SELECT DISTINCT date\n",
    "FROM sep\n",
    "ORDER BY date DESC\n",
    "LIMIT 253\n",
    "\"\"\"\n",
    "\n",
    "print(\"Identifying trading days...\")\n",
    "trading_dates_df = client.query(sql_dates)\n",
    "\n",
    "# Convert to list of date strings, sorted descending\n",
    "trading_dates = trading_dates_df['date'].tolist()\n",
    "\n",
    "# Get the specific dates we need\n",
    "date_current_str = trading_dates[0]      # Most recent date\n",
    "date_lag21_str = trading_dates[21]       # 21 trading days ago  \n",
    "date_lag252_str = trading_dates[252]     # 252 trading days ago\n",
    "\n",
    "print(f\"Most recent date: {date_current_str}\")\n",
    "print(f\"Date 21 trading days ago: {date_lag21_str}\")\n",
    "print(f\"Date 252 trading days ago: {date_lag252_str}\")\n",
    "\n",
    "# Step 2: Get adjusted closing prices for all stocks at these two dates only\n",
    "sql = f\"\"\"\n",
    "SELECT \n",
    "    ticker,\n",
    "    date,\n",
    "    closeadj\n",
    "FROM sep\n",
    "WHERE date IN (\n",
    "    '{date_lag21_str}',\n",
    "    '{date_lag252_str}'\n",
    ")\n",
    "ORDER BY ticker, date\n",
    "\"\"\"\n",
    "\n",
    "print(f\"\\nDownloading prices for 2 dates...\")\n",
    "df = client.query(sql)\n",
    "\n",
    "print(f\"Downloaded {len(df):,} observations for {df['ticker'].nunique():,} tickers\")\n",
    "df.head(10)"
   ]
  },
  {
   "cell_type": "markdown",
   "metadata": {},
   "source": [
    "## Data Preparation"
   ]
  },
  {
   "cell_type": "code",
   "execution_count": 26,
   "metadata": {},
   "outputs": [
    {
     "name": "stdout",
     "output_type": "stream",
     "text": [
      "\n",
      "Pivoted data: 4,635 tickers with prices at 2 dates\n",
      "\n",
      "First few rows:\n"
     ]
    },
    {
     "data": {
      "text/html": [
       "<div>\n",
       "<style scoped>\n",
       "    .dataframe tbody tr th:only-of-type {\n",
       "        vertical-align: middle;\n",
       "    }\n",
       "\n",
       "    .dataframe tbody tr th {\n",
       "        vertical-align: top;\n",
       "    }\n",
       "\n",
       "    .dataframe thead th {\n",
       "        text-align: right;\n",
       "    }\n",
       "</style>\n",
       "<table border=\"1\" class=\"dataframe\">\n",
       "  <thead>\n",
       "    <tr style=\"text-align: right;\">\n",
       "      <th></th>\n",
       "      <th>price_lag252</th>\n",
       "      <th>price_lag21</th>\n",
       "    </tr>\n",
       "    <tr>\n",
       "      <th>ticker</th>\n",
       "      <th></th>\n",
       "      <th></th>\n",
       "    </tr>\n",
       "  </thead>\n",
       "  <tbody>\n",
       "    <tr>\n",
       "      <th>A</th>\n",
       "      <td>143.100</td>\n",
       "      <td>126.476</td>\n",
       "    </tr>\n",
       "    <tr>\n",
       "      <th>AA</th>\n",
       "      <td>41.289</td>\n",
       "      <td>32.860</td>\n",
       "    </tr>\n",
       "    <tr>\n",
       "      <th>AACB</th>\n",
       "      <td>NaN</td>\n",
       "      <td>10.130</td>\n",
       "    </tr>\n",
       "    <tr>\n",
       "      <th>AACI</th>\n",
       "      <td>NaN</td>\n",
       "      <td>10.290</td>\n",
       "    </tr>\n",
       "    <tr>\n",
       "      <th>AACT</th>\n",
       "      <td>10.830</td>\n",
       "      <td>11.390</td>\n",
       "    </tr>\n",
       "  </tbody>\n",
       "</table>\n",
       "</div>"
      ],
      "text/plain": [
       "        price_lag252  price_lag21\n",
       "ticker                           \n",
       "A            143.100      126.476\n",
       "AA            41.289       32.860\n",
       "AACB             NaN       10.130\n",
       "AACI             NaN       10.290\n",
       "AACT          10.830       11.390"
      ]
     },
     "execution_count": 26,
     "metadata": {},
     "output_type": "execute_result"
    }
   ],
   "source": [
    "# Convert date to datetime and pivot to get prices at each date\n",
    "df['date'] = pd.to_datetime(df['date'])\n",
    "\n",
    "# Pivot so each ticker has one row with prices at the two dates\n",
    "df_pivot = df.pivot(index='ticker', columns='date', values='closeadj')\n",
    "\n",
    "# The columns will be the two dates - rename them for clarity\n",
    "# The earlier date is price_lag252, the later date is price_lag21\n",
    "cols = sorted(df_pivot.columns)\n",
    "df_pivot.columns = ['price_lag252', 'price_lag21']\n",
    "\n",
    "print(f\"\\nPivoted data: {len(df_pivot):,} tickers with prices at 2 dates\")\n",
    "print(f\"\\nFirst few rows:\")\n",
    "df_pivot.head()"
   ]
  },
  {
   "cell_type": "markdown",
   "metadata": {},
   "source": [
    "## Calculate Momentum\n",
    "\n",
    "Momentum = (Price 21 trading days ago / Price 252 trading days ago) - 1"
   ]
  },
  {
   "cell_type": "code",
   "execution_count": 27,
   "metadata": {},
   "outputs": [
    {
     "name": "stdout",
     "output_type": "stream",
     "text": [
      "\n",
      "Momentum calculated for 4,057 tickers\n",
      "Reference date: 2025-10-16\n",
      "Momentum period: 2024-10-14 to 2025-09-17\n",
      "\n",
      "Top 10 momentum stocks:\n",
      "ticker  closeadj  momentum\n",
      "  DFDV     17.91 25.572700\n",
      "  RGTI     21.99 25.116390\n",
      "  QUBT     17.71 23.427586\n",
      "  QBTS     22.54 21.316832\n",
      "  MVST      3.36 14.700935\n",
      "   RYM     40.12 12.692833\n",
      "  TDUP     10.45 12.312102\n",
      "  STEX      6.21 12.212766\n",
      "  MNPR     66.64 11.363636\n",
      "  PRCH     18.09 11.222973\n",
      "\n",
      "Bottom 10 momentum stocks:\n",
      "ticker  closeadj  momentum\n",
      "   CDT     7.191 -0.994487\n",
      "  ACON     7.627 -0.995157\n",
      "  ADTX     1.010 -0.996327\n",
      "  XXII     1.740 -0.996453\n",
      "  GCTK     7.550 -0.997087\n",
      "  SUNE     1.420 -0.998862\n",
      "  GNLN     3.570 -0.998911\n",
      "  DGLY     1.950 -0.999145\n",
      "  WHLR    10.400 -0.999387\n",
      "  BINI    15.000 -1.000000\n"
     ]
    }
   ],
   "source": [
    "# Calculate momentum\n",
    "df_pivot['momentum'] = (df_pivot['price_lag21'] / df_pivot['price_lag252']) - 1\n",
    "\n",
    "# Remove tickers without complete data\n",
    "df_current = df_pivot.dropna(subset=['momentum']).copy()\n",
    "df_current = df_current.reset_index()\n",
    "\n",
    "# Add the current date for reference (using date_current_str from earlier)\n",
    "df_current['date'] = date_current_str\n",
    "\n",
    "# Add closeadj as the most recent price (price_lag21 is the most recent we have)\n",
    "df_current['closeadj'] = df_current['price_lag21']\n",
    "\n",
    "# Keep only the columns we need\n",
    "df_current = df_current[['ticker', 'date', 'closeadj', 'momentum']]\n",
    "\n",
    "# Sort by momentum (descending)\n",
    "df_current = df_current.sort_values('momentum', ascending=False)\n",
    "\n",
    "print(f\"\\nMomentum calculated for {len(df_current):,} tickers\")\n",
    "print(f\"Reference date: {date_current_str}\")\n",
    "print(f\"Momentum period: {date_lag252_str} to {date_lag21_str}\")\n",
    "print(f\"\\nTop 10 momentum stocks:\")\n",
    "print(df_current[['ticker', 'closeadj', 'momentum']].head(10).to_string(index=False))\n",
    "print(f\"\\nBottom 10 momentum stocks:\")\n",
    "print(df_current[['ticker', 'closeadj', 'momentum']].tail(10).to_string(index=False))"
   ]
  },
  {
   "cell_type": "markdown",
   "metadata": {},
   "source": [
    "## Save to Excel\n",
    "\n",
    "Save the current momentum data to Excel format for easy viewing and sharing."
   ]
  },
  {
   "cell_type": "code",
   "execution_count": 29,
   "metadata": {},
   "outputs": [
    {
     "name": "stdout",
     "output_type": "stream",
     "text": [
      "\n",
      "Current momentum data saved to momentum_current_20251016.xlsx\n",
      "Total stocks: 4,057\n",
      "Date: 2025-10-16\n"
     ]
    },
    {
     "name": "stderr",
     "output_type": "stream",
     "text": [
      "C:\\Users\\kerry\\AppData\\Local\\Temp\\ipykernel_21352\\3297156828.py:31: DeprecationWarning: Call to deprecated function copy (Use copy(obj) or cell.obj = cell.obj + other).\n",
      "  cell.font = cell.font.copy(bold=True)\n"
     ]
    }
   ],
   "source": [
    "# Save to Excel\n",
    "# Create filename with date (replace hyphens with nothing for YYYYMMDD format)\n",
    "date_str = df_current[\"date\"].iloc[0].replace('-', '')\n",
    "excel_filename = f'momentum_current_{date_str}.xlsx'\n",
    "\n",
    "# Format momentum as percentage for better readability\n",
    "# Prepare output data\n",
    "output_excel = df_current[['ticker', 'date', 'momentum']].copy()\n",
    "output_excel = output_excel.sort_values('momentum', ascending=False)\n",
    "output_excel['momentum_pct'] = output_excel['momentum'] * 100\n",
    "\n",
    "# Reorder columns\n",
    "output_excel = output_excel[['ticker', 'date', 'momentum', 'momentum_pct']]\n",
    "\n",
    "# Save to Excel with formatting\n",
    "with pd.ExcelWriter(excel_filename, engine='openpyxl') as writer:\n",
    "    output_excel.to_excel(writer, sheet_name='Momentum', index=False)\n",
    "    \n",
    "    # Get the worksheet to apply formatting\n",
    "    worksheet = writer.sheets['Momentum']\n",
    "    \n",
    "    # Set column widths\n",
    "    worksheet.column_dimensions['A'].width = 12  # ticker\n",
    "    worksheet.column_dimensions['B'].width = 12  # date\n",
    "    worksheet.column_dimensions['C'].width = 14  # closeadj\n",
    "    worksheet.column_dimensions['D'].width = 16  # momentum_pct\n",
    "    worksheet.column_dimensions['E'].width = 18  # momentum_decile\n",
    "    \n",
    "    # Format header row\n",
    "    for cell in worksheet[1]:\n",
    "        cell.font = cell.font.copy(bold=True)\n",
    "\n",
    "print(f\"\\nCurrent momentum data saved to {excel_filename}\")\n",
    "print(f\"Total stocks: {len(output_excel):,}\")\n",
    "print(f\"Date: {output_excel['date'].iloc[0]}\")"
   ]
  },
  {
   "cell_type": "markdown",
   "metadata": {},
   "source": [
    "## Summary\n",
    "\n",
    "This notebook:\n",
    "1. Identified the most recent trading day in the Rice Data Portal (SEP table)\n",
    "2. Downloaded daily prices from SEP going back ~400 calendar days\n",
    "3. Calculated momentum for each stock as (Price_t-21 / Price_t-252) - 1\n",
    "4. Extracted current momentum values as of the most recent trading day\n",
    "5. Analyzed the distribution and created decile rankings\n",
    "6. Saved the results to Parquet and Excel files\n",
    "\n",
    "**Note**: The SEP table contains daily prices. We use trading day lags (21 and 252) rather than calendar days.\n",
    "\n",
    "The momentum measure uses 21 trading days (≈1 month) and 252 trading days (≈1 year) to capture approximately 11 months of returns, skipping the most recent month to avoid short-term reversals."
   ]
  }
 ],
 "metadata": {
  "kernelspec": {
   "display_name": "Python 3",
   "language": "python",
   "name": "python3"
  },
  "language_info": {
   "codemirror_mode": {
    "name": "ipython",
    "version": 3
   },
   "file_extension": ".py",
   "mimetype": "text/x-python",
   "name": "python",
   "nbconvert_exporter": "python",
   "pygments_lexer": "ipython3",
   "version": "3.13.0"
  }
 },
 "nbformat": 4,
 "nbformat_minor": 4
}
