{
 "cells": [
  {
   "cell_type": "markdown",
   "metadata": {},
   "source": [
    "# Get Monthly Prices for Apple\n",
    "\n",
    "This notebook fetches end-of-month adjusted closing prices for Apple (AAPL) from the Rice Data Portal."
   ]
  },
  {
   "cell_type": "code",
   "execution_count": null,
   "metadata": {},
   "outputs": [],
   "source": [
    "from rice_data_client import RiceDataClient\n",
    "import pandas as pd\n",
    "from dotenv import load_dotenv\n",
    "import os\n",
    "\n",
    "# Load environment variables from .env file\n",
    "load_dotenv()\n",
    "\n",
    "# Get access token from environment\n",
    "ACCESS_TOKEN = os.getenv('RICE_ACCESS_TOKEN')\n",
    "\n",
    "if not ACCESS_TOKEN:\n",
    "    raise ValueError(\n",
    "        \"RICE_ACCESS_TOKEN not found in .env file. \\n\"\n",
    "        \"Please create a .env file with your access token from data-portal.rice-business.org:\\n\"\n",
    "        \"RICE_ACCESS_TOKEN=your_access_token_here\"\n",
    "    )\n",
    "\n",
    "# Initialize client\n",
    "client = RiceDataClient(access_token=ACCESS_TOKEN)"
   ]
  },
  {
   "cell_type": "markdown",
   "metadata": {},
   "source": [
    "## Strategy: Loop Over Years to Get Daily Prices\n",
    "\n",
    "Following the rice-data-query skill guidance, we'll:\n",
    "1. Loop through years from 2020 to current\n",
    "2. Download daily prices for each year\n",
    "3. Filter to end-of-month dates using pandas\n",
    "4. Concatenate all years\n",
    "\n",
    "This avoids server timeouts for large queries."
   ]
  },
  {
   "cell_type": "code",
   "execution_count": null,
   "metadata": {},
   "outputs": [],
   "source": [
    "from datetime import datetime\n",
    "\n",
    "# Get current year\n",
    "current_year = datetime.now().year\n",
    "start_year = 2020\n",
    "\n",
    "# Store month-end data for each year\n",
    "monthly_data = []\n",
    "\n",
    "for year in range(start_year, current_year + 1):\n",
    "    print(f\"Fetching data for {year}...\")\n",
    "    \n",
    "    # Query daily prices for this year\n",
    "    sql = f\"\"\"\n",
    "    SELECT ticker, date::DATE as date, closeadj\n",
    "    FROM sep\n",
    "    WHERE ticker = 'AAPL'\n",
    "      AND date::DATE >= '{year}-01-01'\n",
    "      AND date::DATE < '{year + 1}-01-01'\n",
    "    ORDER BY date\n",
    "    \"\"\"\n",
    "    \n",
    "    df_year = client.query(sql)\n",
    "    \n",
    "    if len(df_year) == 0:\n",
    "        continue\n",
    "    \n",
    "    # Convert date to datetime\n",
    "    df_year['date'] = pd.to_datetime(df_year['date'])\n",
    "    \n",
    "    # Create year-month column\n",
    "    df_year['year_month'] = df_year['date'].dt.to_period('M')\n",
    "    \n",
    "    # Get the last trading day of each month\n",
    "    df_month_end = df_year.groupby(['ticker', 'year_month']).apply(\n",
    "        lambda x: x.loc[x['date'].idxmax()]\n",
    "    ).reset_index(drop=True)\n",
    "    \n",
    "    # Drop the helper column\n",
    "    df_month_end = df_month_end.drop('year_month', axis=1)\n",
    "    \n",
    "    monthly_data.append(df_month_end)\n",
    "    print(f\"  Found {len(df_month_end)} month-ends\")\n",
    "\n",
    "# Concatenate all years\n",
    "df = pd.concat(monthly_data, ignore_index=True)\n",
    "df = df.sort_values('date').reset_index(drop=True)\n",
    "\n",
    "print(f\"\\nTotal monthly observations: {len(df)}\")\n",
    "print(f\"Date range: {df['date'].min()} to {df['date'].max()}\")"
   ]
  },
  {
   "cell_type": "code",
   "execution_count": null,
   "metadata": {},
   "outputs": [],
   "source": [
    "# Preview the data\n",
    "df.head(10)"
   ]
  },
  {
   "cell_type": "code",
   "execution_count": null,
   "metadata": {},
   "outputs": [],
   "source": [
    "# Preview the most recent data\n",
    "df.tail(10)"
   ]
  },
  {
   "cell_type": "markdown",
   "metadata": {},
   "source": [
    "## Save Data as Parquet File\n",
    "\n",
    "Save this data locally so you can use it in future sessions without re-querying the database."
   ]
  },
  {
   "cell_type": "code",
   "execution_count": null,
   "metadata": {},
   "outputs": [],
   "source": [
    "# What filename would you like to use to save this data?\n",
    "filename = \"aapl_monthly_prices.parquet\"\n",
    "\n",
    "df.to_parquet(filename)\n",
    "print(f\"Data saved to {filename} ({len(df)} rows)\")"
   ]
  },
  {
   "cell_type": "markdown",
   "metadata": {},
   "source": [
    "## Plot Monthly Prices"
   ]
  },
  {
   "cell_type": "code",
   "execution_count": null,
   "metadata": {},
   "outputs": [],
   "source": [
    "import matplotlib.pyplot as plt\n",
    "\n",
    "plt.figure(figsize=(12, 6))\n",
    "plt.plot(df['date'], df['closeadj'], linewidth=2)\n",
    "plt.title('Apple (AAPL) Monthly Adjusted Closing Prices', fontsize=14, fontweight='bold')\n",
    "plt.xlabel('Date', fontsize=12)\n",
    "plt.ylabel('Adjusted Close Price ($)', fontsize=12)\n",
    "plt.grid(True, alpha=0.3)\n",
    "plt.tight_layout()\n",
    "plt.show()"
   ]
  }
 ],
 "metadata": {
  "kernelspec": {
   "display_name": "Python 3",
   "language": "python",
   "name": "python3"
  },
  "language_info": {
   "codemirror_mode": {
    "name": "ipython",
    "version": 3
   },
   "file_extension": ".py",
   "mimetype": "text/x-python",
   "name": "python",
   "nbconvert_exporter": "python",
   "pygments_lexer": "ipython3",
   "version": "3.8.0"
  }
 },
 "nbformat": 4,
 "nbformat_minor": 4
}
