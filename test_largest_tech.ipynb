{
 "cells": [
  {
   "cell_type": "markdown",
   "metadata": {},
   "source": [
    "# Get the 10 Largest Tech Companies by Market Cap\n",
    "\n",
    "This notebook fetches the 10 largest technology companies by market capitalization from the Rice Data Portal."
   ]
  },
  {
   "cell_type": "code",
   "execution_count": null,
   "metadata": {},
   "outputs": [],
   "source": [
    "from rice_data_client import RiceDataClient\n",
    "import pandas as pd\n",
    "\n",
    "# Initialize client with your access token\n",
    "ACCESS_TOKEN = \"your_access_token_here\"  # Replace with your token from data-portal.rice-business.org\n",
    "client = RiceDataClient(access_token=ACCESS_TOKEN)"
   ]
  },
  {
   "cell_type": "markdown",
   "metadata": {},
   "source": [
    "## Query Largest Tech Companies\n",
    "\n",
    "We'll:\n",
    "1. Join the DAILY table (for market cap) with TICKERS table (for sector info)\n",
    "2. Filter for Technology sector\n",
    "3. Use the most recent date available\n",
    "4. Sort by market cap and get top 10\n",
    "\n",
    "**Note**: Market cap values in the DAILY table are in thousands of dollars."
   ]
  },
  {
   "cell_type": "code",
   "execution_count": null,
   "metadata": {},
   "outputs": [],
   "source": [
    "# Query the 10 largest tech companies\n",
    "sql = \"\"\"\n",
    "SELECT \n",
    "    d.ticker,\n",
    "    t.name,\n",
    "    t.sector,\n",
    "    t.industry,\n",
    "    d.date::DATE as date,\n",
    "    d.marketcap,\n",
    "    ROUND(d.marketcap / 1000000, 2) as marketcap_billions\n",
    "FROM daily d\n",
    "INNER JOIN tickers t ON d.ticker = t.ticker\n",
    "WHERE t.sector = 'Technology'\n",
    "  AND d.date = (SELECT MAX(date) FROM daily)\n",
    "  AND d.marketcap > 0\n",
    "ORDER BY d.marketcap DESC\n",
    "LIMIT 10\n",
    "\"\"\"\n",
    "\n",
    "df = client.query(sql)\n",
    "\n",
    "# Convert date to datetime\n",
    "df['date'] = pd.to_datetime(df['date'])\n",
    "\n",
    "print(f\"Data as of: {df['date'].iloc[0]}\")\n",
    "print(f\"\\nNote: Market cap values are in thousands of dollars in the database.\")\n",
    "print(f\"The 'marketcap_billions' column shows values in billions for readability.\")"
   ]
  },
  {
   "cell_type": "code",
   "execution_count": null,
   "metadata": {},
   "outputs": [],
   "source": [
    "# Display the results\n",
    "print(\"\\n10 Largest Technology Companies by Market Cap:\")\n",
    "print(\"=\"*80)\n",
    "df[['ticker', 'name', 'industry', 'marketcap_billions']].to_string(index=False)"
   ]
  },
  {
   "cell_type": "code",
   "execution_count": null,
   "metadata": {},
   "outputs": [],
   "source": [
    "# Full dataframe view\n",
    "df"
   ]
  },
  {
   "cell_type": "markdown",
   "metadata": {},
   "source": [
    "## Save Data as Parquet File"
   ]
  },
  {
   "cell_type": "code",
   "execution_count": null,
   "metadata": {},
   "outputs": [],
   "source": [
    "# What filename would you like to use to save this data?\n",
    "filename = \"largest_tech_companies.parquet\"\n",
    "\n",
    "df.to_parquet(filename)\n",
    "print(f\"Data saved to {filename} ({len(df)} rows)\")"
   ]
  },
  {
   "cell_type": "markdown",
   "metadata": {},
   "source": [
    "## Visualize Market Cap Distribution"
   ]
  },
  {
   "cell_type": "code",
   "execution_count": null,
   "metadata": {},
   "outputs": [],
   "source": [
    "import matplotlib.pyplot as plt\n",
    "\n",
    "# Create horizontal bar chart\n",
    "fig, ax = plt.subplots(figsize=(12, 8))\n",
    "\n",
    "# Sort by market cap for better visualization (already sorted, but ensuring)\n",
    "df_sorted = df.sort_values('marketcap_billions', ascending=True)\n",
    "\n",
    "# Create bars\n",
    "bars = ax.barh(df_sorted['ticker'], df_sorted['marketcap_billions'], color='#0078D4', alpha=0.8)\n",
    "\n",
    "# Customize plot\n",
    "ax.set_xlabel('Market Cap ($ Billions)', fontsize=12, fontweight='bold')\n",
    "ax.set_ylabel('Ticker', fontsize=12, fontweight='bold')\n",
    "ax.set_title(f'10 Largest Technology Companies by Market Cap\\nAs of {df[\"date\"].iloc[0].strftime(\"%Y-%m-%d\")}', \n",
    "             fontsize=14, fontweight='bold', pad=20)\n",
    "\n",
    "# Add value labels on bars\n",
    "for i, (bar, value) in enumerate(zip(bars, df_sorted['marketcap_billions'])):\n",
    "    ax.text(value, bar.get_y() + bar.get_height()/2, \n",
    "            f'${value:,.0f}B', \n",
    "            ha='left', va='center', fontsize=10, fontweight='bold', \n",
    "            bbox=dict(boxstyle='round,pad=0.3', facecolor='white', alpha=0.8))\n",
    "\n",
    "ax.grid(True, alpha=0.3, axis='x')\n",
    "plt.tight_layout()\n",
    "plt.show()"
   ]
  },
  {
   "cell_type": "code",
   "execution_count": null,
   "metadata": {},
   "outputs": [],
   "source": [
    "# Summary statistics\n",
    "print(\"\\nMarket Cap Summary (in billions):\")\n",
    "print(f\"Total Market Cap: ${df['marketcap_billions'].sum():,.2f}B\")\n",
    "print(f\"Average Market Cap: ${df['marketcap_billions'].mean():,.2f}B\")\n",
    "print(f\"Median Market Cap: ${df['marketcap_billions'].median():,.2f}B\")\n",
    "print(f\"\\nLargest: {df.iloc[0]['ticker']} - ${df.iloc[0]['marketcap_billions']:,.2f}B\")\n",
    "print(f\"10th Largest: {df.iloc[-1]['ticker']} - ${df.iloc[-1]['marketcap_billions']:,.2f}B\")"
   ]
  },
  {
   "cell_type": "markdown",
   "metadata": {},
   "source": [
    "## Industry Breakdown"
   ]
  },
  {
   "cell_type": "code",
   "execution_count": null,
   "metadata": {},
   "outputs": [],
   "source": [
    "# Count by industry\n",
    "industry_counts = df['industry'].value_counts()\n",
    "print(\"\\nIndustry Distribution:\")\n",
    "print(industry_counts)"
   ]
  }
 ],
 "metadata": {
  "kernelnel": {
   "display_name": "Python 3",
   "language": "python",
   "name": "python3"
  },
  "language_info": {
   "codemirror_mode": {
    "name": "ipython",
    "version": 3
   },
   "file_extension": ".py",
   "mimetype": "text/x-python",
   "name": "python",
   "nbconvert_exporter": "python",
   "pygments_lexer": "ipython3",
   "version": "3.8.0"
  }
 },
 "nbformat": 4,
 "nbformat_minor": 4
}
