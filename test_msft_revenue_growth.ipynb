{
 "cells": [
  {
   "cell_type": "markdown",
   "metadata": {},
   "source": [
    "# Get Quarterly Revenue Growth for Microsoft\n",
    "\n",
    "This notebook fetches quarterly revenue data for Microsoft (MSFT) from the Rice Data Portal and calculates year-over-year growth rates."
   ]
  },
  {
   "cell_type": "code",
   "execution_count": null,
   "metadata": {},
   "outputs": [],
   "source": [
    "from rice_data_client import RiceDataClient\n",
    "import pandas as pd\n",
    "\n",
    "# Initialize client with your access token\n",
    "ACCESS_TOKEN = \"your_access_token_here\"  # Replace with your token from data-portal.rice-business.org\n",
    "client = RiceDataClient(access_token=ACCESS_TOKEN)"
   ]
  },
  {
   "cell_type": "markdown",
   "metadata": {},
   "source": [
    "## Query Quarterly Revenue Data\n",
    "\n",
    "We'll use the SF1 table with dimension MRQ (Most Recent Quarterly) to get quarterly revenue data.\n",
    "The `reportperiod` column contains the fiscal period end date."
   ]
  },
  {
   "cell_type": "code",
   "execution_count": null,
   "metadata": {},
   "outputs": [],
   "source": [
    "# Query quarterly revenue for last 5 years\n",
    "sql = \"\"\"\n",
    "SELECT \n",
    "    ticker,\n",
    "    reportperiod::DATE as reportperiod,\n",
    "    fiscalperiod,\n",
    "    revenue\n",
    "FROM sf1\n",
    "WHERE ticker = 'MSFT'\n",
    "  AND dimension = 'MRQ'\n",
    "  AND reportperiod::DATE >= CURRENT_DATE - INTERVAL '5 years'\n",
    "ORDER BY reportperiod\n",
    "\"\"\"\n",
    "\n",
    "df = client.query(sql)\n",
    "\n",
    "# Convert reportperiod to datetime\n",
    "df['reportperiod'] = pd.to_datetime(df['reportperiod'])\n",
    "\n",
    "print(f\"Retrieved {len(df)} quarterly observations\")\n",
    "print(f\"Date range: {df['reportperiod'].min()} to {df['reportperiod'].max()}\")"
   ]
  },
  {
   "cell_type": "code",
   "execution_count": null,
   "metadata": {},
   "outputs": [],
   "source": [
    "# Preview the data\n",
    "df.head(10)"
   ]
  },
  {
   "cell_type": "markdown",
   "metadata": {},
   "source": [
    "## Calculate Year-over-Year Revenue Growth\n",
    "\n",
    "For quarterly data, year-over-year growth compares to the same quarter in the prior year (lag of 4 quarters)."
   ]
  },
  {
   "cell_type": "code",
   "execution_count": null,
   "metadata": {},
   "outputs": [],
   "source": [
    "# Calculate YoY growth rate\n",
    "df = df.sort_values('reportperiod').reset_index(drop=True)\n",
    "\n",
    "# Lag revenue by 4 quarters for YoY comparison\n",
    "df['revenue_lag4'] = df['revenue'].shift(4)\n",
    "\n",
    "# Calculate YoY growth percentage\n",
    "df['yoy_growth_pct'] = ((df['revenue'] - df['revenue_lag4']) / df['revenue_lag4']) * 100\n",
    "\n",
    "# Round for readability\n",
    "df['yoy_growth_pct'] = df['yoy_growth_pct'].round(2)\n",
    "\n",
    "print(f\"\\nQuarterly Revenue Growth for Microsoft:\")\n",
    "print(df[['reportperiod', 'fiscalperiod', 'revenue', 'yoy_growth_pct']].tail(8))"
   ]
  },
  {
   "cell_type": "markdown",
   "metadata": {},
   "source": [
    "## Save Data as Parquet File"
   ]
  },
  {
   "cell_type": "code",
   "execution_count": null,
   "metadata": {},
   "outputs": [],
   "source": [
    "# What filename would you like to use to save this data?\n",
    "filename = \"msft_quarterly_revenue_growth.parquet\"\n",
    "\n",
    "df.to_parquet(filename)\n",
    "print(f\"Data saved to {filename} ({len(df)} rows)\")"
   ]
  },
  {
   "cell_type": "markdown",
   "metadata": {},
   "source": [
    "## Visualize Revenue Growth"
   ]
  },
  {
   "cell_type": "code",
   "execution_count": null,
   "metadata": {},
   "outputs": [],
   "source": [
    "import matplotlib.pyplot as plt\n",
    "\n",
    "# Create figure with two subplots\n",
    "fig, (ax1, ax2) = plt.subplots(2, 1, figsize=(12, 10))\n",
    "\n",
    "# Plot 1: Quarterly Revenue\n",
    "ax1.plot(df['reportperiod'], df['revenue'] / 1000, linewidth=2, color='#0078D4')\n",
    "ax1.set_title('Microsoft Quarterly Revenue', fontsize=14, fontweight='bold')\n",
    "ax1.set_xlabel('Report Period', fontsize=12)\n",
    "ax1.set_ylabel('Revenue ($B)', fontsize=12)\n",
    "ax1.grid(True, alpha=0.3)\n",
    "\n",
    "# Plot 2: YoY Growth Rate\n",
    "# Drop NaN values for plotting\n",
    "df_growth = df.dropna(subset=['yoy_growth_pct'])\n",
    "colors = ['green' if x >= 0 else 'red' for x in df_growth['yoy_growth_pct']]\n",
    "ax2.bar(df_growth['reportperiod'], df_growth['yoy_growth_pct'], color=colors, alpha=0.7)\n",
    "ax2.axhline(y=0, color='black', linestyle='-', linewidth=0.5)\n",
    "ax2.set_title('Microsoft YoY Revenue Growth Rate', fontsize=14, fontweight='bold')\n",
    "ax2.set_xlabel('Report Period', fontsize=12)\n",
    "ax2.set_ylabel('YoY Growth (%)', fontsize=12)\n",
    "ax2.grid(True, alpha=0.3, axis='y')\n",
    "\n",
    "plt.tight_layout()\n",
    "plt.show()"
   ]
  },
  {
   "cell_type": "code",
   "execution_count": null,
   "metadata": {},
   "outputs": [],
   "source": [
    "# Summary statistics\n",
    "print(\"\\nRevenue Growth Summary Statistics:\")\n",
    "print(f\"Mean YoY Growth: {df_growth['yoy_growth_pct'].mean():.2f}%\")\n",
    "print(f\"Median YoY Growth: {df_growth['yoy_growth_pct'].median():.2f}%\")\n",
    "print(f\"Min YoY Growth: {df_growth['yoy_growth_pct'].min():.2f}%\")\n",
    "print(f\"Max YoY Growth: {df_growth['yoy_growth_pct'].max():.2f}%\")\n",
    "print(f\"Std Dev: {df_growth['yoy_growth_pct'].std():.2f}%\")"
   ]
  }
 ],
 "metadata": {
  "kernelspec": {
   "display_name": "Python 3",
   "language": "python",
   "name": "python3"
  },
  "language_info": {
   "codemirror_mode": {
    "name": "ipython",
    "version": 3
   },
   "file_extension": ".py",
   "mimetype": "text/x-python",
   "name": "python",
   "nbconvert_exporter": "python",
   "pygments_lexer": "ipython3",
   "version": "3.8.0"
  }
 },
 "nbformat": 4,
 "nbformat_minor": 4
}
