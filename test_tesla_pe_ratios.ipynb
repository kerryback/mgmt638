{
 "cells": [
  {
   "cell_type": "markdown",
   "metadata": {},
   "source": [
    "# Get Daily PE Ratios for Tesla and Plot Them\n",
    "\n",
    "This notebook fetches daily price-to-earnings (PE) ratios for Tesla (TSLA) from the Rice Data Portal."
   ]
  },
  {
   "cell_type": "code",
   "execution_count": null,
   "metadata": {},
   "outputs": [],
   "source": [
    "from rice_data_client import RiceDataClient\n",
    "import pandas as pd\n",
    "\n",
    "# Initialize client with your access token\n",
    "ACCESS_TOKEN = \"your_access_token_here\"  # Replace with your token from data-portal.rice-business.org\n",
    "client = RiceDataClient(access_token=ACCESS_TOKEN)"
   ]
  },
  {
   "cell_type": "markdown",
   "metadata": {},
   "source": [
    "## Query Daily PE Ratios\n",
    "\n",
    "Daily PE ratios are in the DAILY table. We'll get the last 2 years of data.\n",
    "\n",
    "**Note**: The `pe` column contains the price-to-earnings ratio calculated daily."
   ]
  },
  {
   "cell_type": "code",
   "execution_count": null,
   "metadata": {},
   "outputs": [],
   "source": [
    "# Query daily PE ratios for Tesla\n",
    "sql = \"\"\"\n",
    "SELECT \n",
    "    ticker,\n",
    "    date::DATE as date,\n",
    "    pe,\n",
    "    marketcap,\n",
    "    pb,\n",
    "    ps\n",
    "FROM daily\n",
    "WHERE ticker = 'TSLA'\n",
    "  AND date::DATE >= CURRENT_DATE - INTERVAL '2 years'\n",
    "  AND pe IS NOT NULL\n",
    "ORDER BY date\n",
    "\"\"\"\n",
    "\n",
    "df = client.query(sql)\n",
    "\n",
    "# Convert date to datetime\n",
    "df['date'] = pd.to_datetime(df['date'])\n",
    "\n",
    "print(f\"Retrieved {len(df)} daily observations\")\n",
    "print(f\"Date range: {df['date'].min().strftime('%Y-%m-%d')} to {df['date'].max().strftime('%Y-%m-%d')}\")"
   ]
  },
  {
   "cell_type": "code",
   "execution_count": null,
   "metadata": {},
   "outputs": [],
   "source": [
    "# Preview the data\n",
    "df.head(10)"
   ]
  },
  {
   "cell_type": "code",
   "execution_count": null,
   "metadata": {},
   "outputs": [],
   "source": [
    "# Recent data\n",
    "df.tail(10)"
   ]
  },
  {
   "cell_type": "markdown",
   "metadata": {},
   "source": [
    "## Summary Statistics"
   ]
  },
  {
   "cell_type": "code",
   "execution_count": null,
   "metadata": {},
   "outputs": [],
   "source": [
    "print(\"\\nPE Ratio Summary Statistics for Tesla:\")\n",
    "print(f\"Mean PE: {df['pe'].mean():.2f}\")\n",
    "print(f\"Median PE: {df['pe'].median():.2f}\")\n",
    "print(f\"Min PE: {df['pe'].min():.2f}\")\n",
    "print(f\"Max PE: {df['pe'].max():.2f}\")\n",
    "print(f\"Std Dev: {df['pe'].std():.2f}\")\n",
    "print(f\"\\nCurrent PE (most recent): {df['pe'].iloc[-1]:.2f}\")"
   ]
  },
  {
   "cell_type": "markdown",
   "metadata": {},
   "source": [
    "## Save Data as Parquet File"
   ]
  },
  {
   "cell_type": "code",
   "execution_count": null,
   "metadata": {},
   "outputs": [],
   "source": [
    "# What filename would you like to use to save this data?\n",
    "filename = \"tsla_daily_pe_ratios.parquet\"\n",
    "\n",
    "df.to_parquet(filename)\n",
    "print(f\"Data saved to {filename} ({len(df)} rows)\")"
   ]
  },
  {
   "cell_type": "markdown",
   "metadata": {},
   "source": [
    "## Plot Daily PE Ratios"
   ]
  },
  {
   "cell_type": "code",
   "execution_count": null,
   "metadata": {},
   "outputs": [],
   "source": [
    "import matplotlib.pyplot as plt\n",
    "import numpy as np\n",
    "\n",
    "# Create figure with subplots\n",
    "fig, (ax1, ax2) = plt.subplots(2, 1, figsize=(14, 10))\n",
    "\n",
    "# Plot 1: PE Ratio over time\n",
    "ax1.plot(df['date'], df['pe'], linewidth=1.5, color='#E31937', alpha=0.8)\n",
    "ax1.axhline(y=df['pe'].mean(), color='blue', linestyle='--', linewidth=2, \n",
    "            label=f'Mean PE: {df[\"pe\"].mean():.2f}', alpha=0.7)\n",
    "ax1.axhline(y=df['pe'].median(), color='green', linestyle='--', linewidth=2, \n",
    "            label=f'Median PE: {df[\"pe\"].median():.2f}', alpha=0.7)\n",
    "ax1.set_title('Tesla (TSLA) Daily PE Ratio', fontsize=14, fontweight='bold')\n",
    "ax1.set_xlabel('Date', fontsize=12)\n",
    "ax1.set_ylabel('PE Ratio', fontsize=12)\n",
    "ax1.legend(loc='best', fontsize=10)\n",
    "ax1.grid(True, alpha=0.3)\n",
    "\n",
    "# Plot 2: Distribution histogram\n",
    "ax2.hist(df['pe'], bins=50, color='#E31937', alpha=0.7, edgecolor='black')\n",
    "ax2.axvline(x=df['pe'].mean(), color='blue', linestyle='--', linewidth=2, \n",
    "            label=f'Mean: {df[\"pe\"].mean():.2f}')\n",
    "ax2.axvline(x=df['pe'].median(), color='green', linestyle='--', linewidth=2, \n",
    "            label=f'Median: {df[\"pe\"].median():.2f}')\n",
    "ax2.set_title('Distribution of Tesla PE Ratios', fontsize=14, fontweight='bold')\n",
    "ax2.set_xlabel('PE Ratio', fontsize=12)\n",
    "ax2.set_ylabel('Frequency', fontsize=12)\n",
    "ax2.legend(loc='best', fontsize=10)\n",
    "ax2.grid(True, alpha=0.3, axis='y')\n",
    "\n",
    "plt.tight_layout()\n",
    "plt.show()"
   ]
  },
  {
   "cell_type": "markdown",
   "metadata": {},
   "source": [
    "## Rolling Statistics"
   ]
  },
  {
   "cell_type": "code",
   "execution_count": null,
   "metadata": {},
   "outputs": [],
   "source": [
    "# Calculate 30-day and 90-day rolling averages\n",
    "df['pe_ma30'] = df['pe'].rolling(window=30).mean()\n",
    "df['pe_ma90'] = df['pe'].rolling(window=90).mean()\n",
    "\n",
    "# Plot with moving averages\n",
    "plt.figure(figsize=(14, 7))\n",
    "plt.plot(df['date'], df['pe'], linewidth=1, color='#E31937', alpha=0.4, label='Daily PE')\n",
    "plt.plot(df['date'], df['pe_ma30'], linewidth=2, color='blue', label='30-Day MA')\n",
    "plt.plot(df['date'], df['pe_ma90'], linewidth=2, color='green', label='90-Day MA')\n",
    "\n",
    "plt.title('Tesla PE Ratio with Moving Averages', fontsize=14, fontweight='bold')\n",
    "plt.xlabel('Date', fontsize=12)\n",
    "plt.ylabel('PE Ratio', fontsize=12)\n",
    "plt.legend(loc='best', fontsize=11)\n",
    "plt.grid(True, alpha=0.3)\n",
    "plt.tight_layout()\n",
    "plt.show()"
   ]
  },
  {
   "cell_type": "markdown",
   "metadata": {},
   "source": [
    "## Compare Multiple Valuation Metrics"
   ]
  },
  {
   "cell_type": "code",
   "execution_count": null,
   "metadata": {},
   "outputs": [],
   "source": [
    "# Normalize metrics to show on same scale (using z-scores)\n",
    "from scipy import stats\n",
    "\n",
    "df_metrics = df[['date', 'pe', 'pb', 'ps']].dropna()\n",
    "\n",
    "# Calculate z-scores for comparison\n",
    "df_metrics['pe_z'] = stats.zscore(df_metrics['pe'])\n",
    "df_metrics['pb_z'] = stats.zscore(df_metrics['pb'])\n",
    "df_metrics['ps_z'] = stats.zscore(df_metrics['ps'])\n",
    "\n",
    "# Plot normalized metrics\n",
    "plt.figure(figsize=(14, 7))\n",
    "plt.plot(df_metrics['date'], df_metrics['pe_z'], linewidth=1.5, label='PE Ratio', alpha=0.8)\n",
    "plt.plot(df_metrics['date'], df_metrics['pb_z'], linewidth=1.5, label='PB Ratio', alpha=0.8)\n",
    "plt.plot(df_metrics['date'], df_metrics['ps_z'], linewidth=1.5, label='PS Ratio', alpha=0.8)\n",
    "plt.axhline(y=0, color='black', linestyle='-', linewidth=0.5)\n",
    "\n",
    "plt.title('Tesla Valuation Metrics (Normalized)', fontsize=14, fontweight='bold')\n",
    "plt.xlabel('Date', fontsize=12)\n",
    "plt.ylabel('Z-Score', fontsize=12)\n",
    "plt.legend(loc='best', fontsize=11)\n",
    "plt.grid(True, alpha=0.3)\n",
    "plt.tight_layout()\n",
    "plt.show()\n",
    "\n",
    "print(\"\\nNote: Z-scores show how many standard deviations each metric is from its mean.\")\n",
    "print(\"This allows comparison of metrics on different scales.\")"
   ]
  }
 ],
 "metadata": {
  "kernelspec": {
   "display_name": "Python 3",
   "language": "python",
   "name": "python3"
  },
  "language_info": {
   "codemirror_mode": {
    "name": "ipython",
    "version": 3
   },
   "file_extension": ".py",
   "mimetype": "text/x-python",
   "name": "python",
   "nbconvert_exporter": "python",
   "pygments_lexer": "ipython3",
   "version": "3.8.0"
  }
 },
 "nbformat": 4,
 "nbformat_minor": 4
}
